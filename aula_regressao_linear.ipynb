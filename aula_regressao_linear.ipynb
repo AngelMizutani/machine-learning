{
 "cells": [
  {
   "cell_type": "markdown",
   "id": "1f00710e-d6c9-4ac2-bb92-40db02a7ad67",
   "metadata": {},
   "source": [
    "# Machine Learning\n",
    "Neste projeto, iremos utilizar uma base de dados de estudantes utilizando as notas do exame SAT para prever a nota GPA. \n",
    "* SAT: exame aplicado aos estudantes, como se fosse um vestibular/enem\n",
    "* GPA: média ponderada das notas das disciplinas do ensino médio\n",
    "Será utilizado o modelo de regressão, segundo o Pipeline:\n",
    "\n",
    "1. Coleta de dados\n",
    "2. Limpeza e preparação dos dados\n",
    "3. Divisão em treino e teste\n",
    "4. Treinamento do modelo\n",
    "5. Avaliação do modelo\n",
    "6. Interpretação ou uso do modelo"
   ]
  },
  {
   "cell_type": "code",
   "execution_count": 1,
   "id": "889055b5-cae2-43db-8612-8f1fd9ebc1a3",
   "metadata": {},
   "outputs": [],
   "source": [
    "# importação de bibliotecas\n",
    "import pandas as pd\n",
    "import seaborn as srn\n",
    "import statistics as sts\n",
    "\n",
    "# bibliotecas para regressão linear\n",
    "import numpy as np\n",
    "import matplotlib.pyplot as plt\n",
    "from sklearn import preprocessing, svm\n",
    "from sklearn.model_selection import train_test_split\n",
    "from sklearn.linear_model import LinearRegression\n",
    "from sklearn.metrics import mean_absolute_error, mean_squared_error, r2_score"
   ]
  },
  {
   "cell_type": "markdown",
   "id": "3a4e0dfb-2f40-422c-9021-f7547644b43f",
   "metadata": {},
   "source": [
    "## 1. Coleta dos dados"
   ]
  },
  {
   "cell_type": "code",
   "execution_count": 2,
   "id": "7344ad0b-dcc1-4d63-af14-8e6f2aab1ff3",
   "metadata": {},
   "outputs": [
    {
     "data": {
      "text/plain": [
       "(100, 2)"
      ]
     },
     "execution_count": 2,
     "metadata": {},
     "output_type": "execute_result"
    }
   ],
   "source": [
    "# leitura dos arquivo csv\n",
    "df = pd.read_csv('Simple linear regression.csv')\n",
    "df.shape"
   ]
  },
  {
   "cell_type": "code",
   "execution_count": 3,
   "id": "341e9423-4276-475f-a2dd-84ed82f25647",
   "metadata": {},
   "outputs": [
    {
     "data": {
      "text/html": [
       "<div>\n",
       "<style scoped>\n",
       "    .dataframe tbody tr th:only-of-type {\n",
       "        vertical-align: middle;\n",
       "    }\n",
       "\n",
       "    .dataframe tbody tr th {\n",
       "        vertical-align: top;\n",
       "    }\n",
       "\n",
       "    .dataframe thead th {\n",
       "        text-align: right;\n",
       "    }\n",
       "</style>\n",
       "<table border=\"1\" class=\"dataframe\">\n",
       "  <thead>\n",
       "    <tr style=\"text-align: right;\">\n",
       "      <th></th>\n",
       "      <th>SAT</th>\n",
       "      <th>GPA</th>\n",
       "    </tr>\n",
       "  </thead>\n",
       "  <tbody>\n",
       "    <tr>\n",
       "      <th>0</th>\n",
       "      <td>1714</td>\n",
       "      <td>2.40</td>\n",
       "    </tr>\n",
       "    <tr>\n",
       "      <th>1</th>\n",
       "      <td>1664</td>\n",
       "      <td>2.52</td>\n",
       "    </tr>\n",
       "    <tr>\n",
       "      <th>2</th>\n",
       "      <td>1760</td>\n",
       "      <td>2.54</td>\n",
       "    </tr>\n",
       "    <tr>\n",
       "      <th>3</th>\n",
       "      <td>1685</td>\n",
       "      <td>2.74</td>\n",
       "    </tr>\n",
       "    <tr>\n",
       "      <th>4</th>\n",
       "      <td>1693</td>\n",
       "      <td>2.83</td>\n",
       "    </tr>\n",
       "  </tbody>\n",
       "</table>\n",
       "</div>"
      ],
      "text/plain": [
       "    SAT   GPA\n",
       "0  1714  2.40\n",
       "1  1664  2.52\n",
       "2  1760  2.54\n",
       "3  1685  2.74\n",
       "4  1693  2.83"
      ]
     },
     "execution_count": 3,
     "metadata": {},
     "output_type": "execute_result"
    }
   ],
   "source": [
    "df.head()"
   ]
  },
  {
   "cell_type": "code",
   "execution_count": 4,
   "id": "4101ac79-4d0c-46f9-8eaa-b94647569f72",
   "metadata": {},
   "outputs": [
    {
     "data": {
      "text/html": [
       "<div>\n",
       "<style scoped>\n",
       "    .dataframe tbody tr th:only-of-type {\n",
       "        vertical-align: middle;\n",
       "    }\n",
       "\n",
       "    .dataframe tbody tr th {\n",
       "        vertical-align: top;\n",
       "    }\n",
       "\n",
       "    .dataframe thead th {\n",
       "        text-align: right;\n",
       "    }\n",
       "</style>\n",
       "<table border=\"1\" class=\"dataframe\">\n",
       "  <thead>\n",
       "    <tr style=\"text-align: right;\">\n",
       "      <th></th>\n",
       "      <th>SAT</th>\n",
       "      <th>GPA</th>\n",
       "    </tr>\n",
       "  </thead>\n",
       "  <tbody>\n",
       "    <tr>\n",
       "      <th>95</th>\n",
       "      <td>1934</td>\n",
       "      <td>3.54</td>\n",
       "    </tr>\n",
       "    <tr>\n",
       "      <th>96</th>\n",
       "      <td>1861</td>\n",
       "      <td>3.58</td>\n",
       "    </tr>\n",
       "    <tr>\n",
       "      <th>97</th>\n",
       "      <td>1931</td>\n",
       "      <td>3.58</td>\n",
       "    </tr>\n",
       "    <tr>\n",
       "      <th>98</th>\n",
       "      <td>1933</td>\n",
       "      <td>3.59</td>\n",
       "    </tr>\n",
       "    <tr>\n",
       "      <th>99</th>\n",
       "      <td>1778</td>\n",
       "      <td>3.59</td>\n",
       "    </tr>\n",
       "  </tbody>\n",
       "</table>\n",
       "</div>"
      ],
      "text/plain": [
       "     SAT   GPA\n",
       "95  1934  3.54\n",
       "96  1861  3.58\n",
       "97  1931  3.58\n",
       "98  1933  3.59\n",
       "99  1778  3.59"
      ]
     },
     "execution_count": 4,
     "metadata": {},
     "output_type": "execute_result"
    }
   ],
   "source": [
    "df.tail()"
   ]
  },
  {
   "cell_type": "markdown",
   "id": "31432842-da2c-4253-9e01-a8d9534d2cec",
   "metadata": {},
   "source": [
    "## 2. Limpeza e Preparação dos dados\n",
    "* Apenas valores numéricos: boxplot, histograma e verificação de nulos"
   ]
  },
  {
   "cell_type": "markdown",
   "id": "858b721f-c447-48e3-9666-dedc3fd6c93e",
   "metadata": {},
   "source": [
    "### Verificação de nulos"
   ]
  },
  {
   "cell_type": "code",
   "execution_count": 5,
   "id": "ad6a8a84-58cc-4299-9a5c-8d9fa04b04b2",
   "metadata": {},
   "outputs": [
    {
     "data": {
      "text/plain": [
       "SAT    0\n",
       "GPA    0\n",
       "dtype: int64"
      ]
     },
     "execution_count": 5,
     "metadata": {},
     "output_type": "execute_result"
    }
   ],
   "source": [
    "df.isnull().sum()"
   ]
  },
  {
   "cell_type": "raw",
   "id": "a631d3c6-16e9-449f-bfcd-3e6560b2c538",
   "metadata": {},
   "source": [
    "como não temos valores nulos, não é necessário aplicar tratamento"
   ]
  },
  {
   "cell_type": "markdown",
   "id": "fbbe225a-0755-45cd-bbbc-9f41879403a9",
   "metadata": {},
   "source": [
    "### SAT"
   ]
  },
  {
   "cell_type": "code",
   "execution_count": 6,
   "id": "425cde06-e78a-4751-8df4-6ac7e0a34e2d",
   "metadata": {},
   "outputs": [
    {
     "data": {
      "text/plain": [
       "count     100.000000\n",
       "mean     1850.760000\n",
       "std       101.566331\n",
       "min      1634.000000\n",
       "25%      1776.500000\n",
       "50%      1850.000000\n",
       "75%      1934.000000\n",
       "max      2050.000000\n",
       "Name: SAT, dtype: float64"
      ]
     },
     "execution_count": 6,
     "metadata": {},
     "output_type": "execute_result"
    }
   ],
   "source": [
    "# resumo estatístico\n",
    "df['SAT'].describe()"
   ]
  },
  {
   "cell_type": "code",
   "execution_count": 7,
   "id": "4a007af0-8ffd-4263-8788-f2ec51ed6d2d",
   "metadata": {},
   "outputs": [
    {
     "data": {
      "text/plain": [
       "Text(0.5, 1.0, 'Valores de SAT')"
      ]
     },
     "execution_count": 7,
     "metadata": {},
     "output_type": "execute_result"
    },
    {
     "data": {
      "image/png": "[encoded data removed]",
      "text/plain": [
       "<Figure size 640x480 with 1 Axes>"
      ]
     },
     "metadata": {},
     "output_type": "display_data"
    }
   ],
   "source": [
    "# verificar outliers\n",
    "srn.boxplot(df['SAT']).set_title('Valores de SAT')"
   ]
  },
  {
   "cell_type": "code",
   "execution_count": 8,
   "id": "c8e0434d-07d2-40a5-b96f-3597d54d7706",
   "metadata": {},
   "outputs": [
    {
     "data": {
      "text/plain": [
       "Text(0.5, 1.0, 'SAT')"
      ]
     },
     "execution_count": 8,
     "metadata": {},
     "output_type": "execute_result"
    },
    {
     "data": {
      "image/png": "[encoded data removed]",
      "text/plain": [
       "<Figure size 640x480 with 1 Axes>"
      ]
     },
     "metadata": {},
     "output_type": "display_data"
    }
   ],
   "source": [
    "#histograma para verificar a distribuição de frequencias\n",
    "srn.histplot(df['SAT']).set_title('SAT')"
   ]
  },
  {
   "cell_type": "markdown",
   "id": "dda587e2-d9e2-4620-b537-e76c10eeddf6",
   "metadata": {},
   "source": [
    "### GPA"
   ]
  },
  {
   "cell_type": "code",
   "execution_count": 9,
   "id": "b80c1c33-5eb0-49ea-a3c5-9dc17531e246",
   "metadata": {},
   "outputs": [
    {
     "data": {
      "text/plain": [
       "count    100.000000\n",
       "mean       3.360500\n",
       "std        0.258845\n",
       "min        2.400000\n",
       "25%        3.270000\n",
       "50%        3.410000\n",
       "75%        3.520000\n",
       "max        3.810000\n",
       "Name: GPA, dtype: float64"
      ]
     },
     "execution_count": 9,
     "metadata": {},
     "output_type": "execute_result"
    }
   ],
   "source": [
    "#resumo estatístico\n",
    "df['GPA'].describe()"
   ]
  },
  {
   "cell_type": "code",
   "execution_count": 10,
   "id": "00c42b37-7d85-44b5-8798-da7876e44518",
   "metadata": {},
   "outputs": [
    {
     "data": {
      "text/plain": [
       "Text(0.5, 1.0, 'Valores de GPA')"
      ]
     },
     "execution_count": 10,
     "metadata": {},
     "output_type": "execute_result"
    },
    {
     "data": {
      "image/png": "[encoded data removed]",
      "text/plain": [
       "<Figure size 640x480 with 1 Axes>"
      ]
     },
     "metadata": {},
     "output_type": "display_data"
    }
   ],
   "source": [
    "#boxplot\n",
    "srn.boxplot(df['GPA']).set_title('Valores de GPA')"
   ]
  },
  {
   "cell_type": "raw",
   "id": "baf39504-027d-4378-b145-a5937be7e1eb",
   "metadata": {},
   "source": [
    "Observamos a presença de outliers, que devem ser tratados"
   ]
  },
  {
   "cell_type": "code",
   "execution_count": 11,
   "id": "0858cc53-2d8f-44d9-9c62-7e700a8a2281",
   "metadata": {},
   "outputs": [
    {
     "data": {
      "text/plain": [
       "Text(0.5, 1.0, 'Distribuição das notas de GPA')"
      ]
     },
     "execution_count": 11,
     "metadata": {},
     "output_type": "execute_result"
    },
    {
     "data": {
      "image/png": "[encoded data removed]",
      "text/plain": [
       "<Figure size 640x480 with 1 Axes>"
      ]
     },
     "metadata": {},
     "output_type": "display_data"
    }
   ],
   "source": [
    "#histograma\n",
    "srn.histplot(df['GPA']).set_title('Distribuição das notas de GPA')"
   ]
  },
  {
   "cell_type": "code",
   "execution_count": 12,
   "id": "50f2552d-1fde-4f89-92de-ab6fc0911594",
   "metadata": {},
   "outputs": [
    {
     "name": "stdout",
     "output_type": "stream",
     "text": [
      "Limite inferior:  2.895\n",
      "Limite Superior:  3.895\n"
     ]
    }
   ],
   "source": [
    "#Calculando os limites para tratar os outliers\n",
    "q1 = 3.27\n",
    "q3 = 3.52\n",
    "iq = q3 - q1\n",
    "\n",
    "lim_inf = q1 - 1.5 * iq\n",
    "lim_sup = q3 + 1.5 * iq\n",
    "\n",
    "print('Limite inferior: ', lim_inf)\n",
    "print('Limite Superior: ', lim_sup)"
   ]
  },
  {
   "cell_type": "code",
   "execution_count": 13,
   "id": "1e1c738b-20cc-454f-8589-b62560cf0df2",
   "metadata": {},
   "outputs": [
    {
     "data": {
      "text/plain": [
       "3.41"
      ]
     },
     "execution_count": 13,
     "metadata": {},
     "output_type": "execute_result"
    }
   ],
   "source": [
    "# calculando a mediana\n",
    "mediana_gpa = sts.median(df['GPA'])\n",
    "mediana_gpa"
   ]
  },
  {
   "cell_type": "code",
   "execution_count": 14,
   "id": "93ab4e28-1ad5-4bfc-8892-6ec9592ee76c",
   "metadata": {},
   "outputs": [],
   "source": [
    "# Substituindo os outliers pela mediana\n",
    "df.loc[(df['GPA'] < lim_inf) | (df['GPA'] > lim_sup), 'GPA'] = mediana_gpa"
   ]
  },
  {
   "cell_type": "code",
   "execution_count": 15,
   "id": "596d0d52-70d2-4564-bbcb-18017bc46ffc",
   "metadata": {},
   "outputs": [
    {
     "data": {
      "text/html": [
       "<div>\n",
       "<style scoped>\n",
       "    .dataframe tbody tr th:only-of-type {\n",
       "        vertical-align: middle;\n",
       "    }\n",
       "\n",
       "    .dataframe tbody tr th {\n",
       "        vertical-align: top;\n",
       "    }\n",
       "\n",
       "    .dataframe thead th {\n",
       "        text-align: right;\n",
       "    }\n",
       "</style>\n",
       "<table border=\"1\" class=\"dataframe\">\n",
       "  <thead>\n",
       "    <tr style=\"text-align: right;\">\n",
       "      <th></th>\n",
       "      <th>SAT</th>\n",
       "      <th>GPA</th>\n",
       "    </tr>\n",
       "  </thead>\n",
       "  <tbody>\n",
       "  </tbody>\n",
       "</table>\n",
       "</div>"
      ],
      "text/plain": [
       "Empty DataFrame\n",
       "Columns: [SAT, GPA]\n",
       "Index: []"
      ]
     },
     "execution_count": 15,
     "metadata": {},
     "output_type": "execute_result"
    }
   ],
   "source": [
    "# verificando se ainda existem outliers\n",
    "df.loc[(df['GPA'] < lim_inf) | (df['GPA'] > lim_sup)]"
   ]
  }
 ],
 "metadata": {
  "kernelspec": {
   "display_name": "Python 3 (ipykernel)",
   "language": "python",
   "name": "python3"
  },
  "language_info": {
   "codemirror_mode": {
    "name": "ipython",
    "version": 3
   },
   "file_extension": ".py",
   "mimetype": "text/x-python",
   "name": "python",
   "nbconvert_exporter": "python",
   "pygments_lexer": "ipython3",
   "version": "3.12.7"
  }
 },
 "nbformat": 4,
 "nbformat_minor": 5
}
